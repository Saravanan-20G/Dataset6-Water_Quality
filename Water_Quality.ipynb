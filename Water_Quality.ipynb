{
 "cells": [
  {
   "cell_type": "code",
   "execution_count": 27,
   "metadata": {},
   "outputs": [],
   "source": [
    "import pandas as pd\n",
    "import numpy as np\n",
    "\n",
    "#Statistic\n",
    "from scipy import stats\n",
    "\n",
    "#Visualization\n",
    "import plotly.graph_objects as go\n",
    "import plotly.express as px\n",
    "import matplotlib.pyplot as plt\n",
    "import seaborn as sns\n",
    "\n",
    "#Preprocessing\n",
    "from sklearn.preprocessing import OrdinalEncoder, MinMaxScaler, OneHotEncoder, StandardScaler\n",
    "#Machine Learning identifying algorithms/Model\n",
    "from sklearn.model_selection import train_test_split\n",
    "\n",
    "#Machine Learning\n",
    "# Classification\n",
    "from sklearn.ensemble import GradientBoostingClassifier\n",
    "from xgboost import XGBClassifier\n",
    "from lightgbm import LGBMClassifier\n",
    "\n",
    "\n",
    "#Machine Learning Evaluation\n",
    "from sklearn.metrics import top_k_accuracy_score, precision_score, recall_score, accuracy_score,  confusion_matrix  # Classification\n",
    "     "
   ]
  },
  {
   "cell_type": "code",
   "execution_count": 2,
   "metadata": {},
   "outputs": [],
   "source": [
    "df=pd.read_csv(\"C:\\\\Users\\\\Saravanan\\\\OneDrive\\\\Desktop\\\\Datasets_data\\\\water_potability.csv\")"
   ]
  },
  {
   "cell_type": "code",
   "execution_count": 3,
   "metadata": {},
   "outputs": [
    {
     "data": {
      "text/html": [
       "<div>\n",
       "<style scoped>\n",
       "    .dataframe tbody tr th:only-of-type {\n",
       "        vertical-align: middle;\n",
       "    }\n",
       "\n",
       "    .dataframe tbody tr th {\n",
       "        vertical-align: top;\n",
       "    }\n",
       "\n",
       "    .dataframe thead th {\n",
       "        text-align: right;\n",
       "    }\n",
       "</style>\n",
       "<table border=\"1\" class=\"dataframe\">\n",
       "  <thead>\n",
       "    <tr style=\"text-align: right;\">\n",
       "      <th></th>\n",
       "      <th>ph</th>\n",
       "      <th>Hardness</th>\n",
       "      <th>Solids</th>\n",
       "      <th>Chloramines</th>\n",
       "      <th>Sulfate</th>\n",
       "      <th>Conductivity</th>\n",
       "      <th>Organic_carbon</th>\n",
       "      <th>Trihalomethanes</th>\n",
       "      <th>Turbidity</th>\n",
       "      <th>Potability</th>\n",
       "    </tr>\n",
       "  </thead>\n",
       "  <tbody>\n",
       "    <tr>\n",
       "      <th>0</th>\n",
       "      <td>NaN</td>\n",
       "      <td>204.890455</td>\n",
       "      <td>20791.318981</td>\n",
       "      <td>7.300212</td>\n",
       "      <td>368.516441</td>\n",
       "      <td>564.308654</td>\n",
       "      <td>10.379783</td>\n",
       "      <td>86.990970</td>\n",
       "      <td>2.963135</td>\n",
       "      <td>0</td>\n",
       "    </tr>\n",
       "    <tr>\n",
       "      <th>1</th>\n",
       "      <td>3.716080</td>\n",
       "      <td>129.422921</td>\n",
       "      <td>18630.057858</td>\n",
       "      <td>6.635246</td>\n",
       "      <td>NaN</td>\n",
       "      <td>592.885359</td>\n",
       "      <td>15.180013</td>\n",
       "      <td>56.329076</td>\n",
       "      <td>4.500656</td>\n",
       "      <td>0</td>\n",
       "    </tr>\n",
       "    <tr>\n",
       "      <th>2</th>\n",
       "      <td>8.099124</td>\n",
       "      <td>224.236259</td>\n",
       "      <td>19909.541732</td>\n",
       "      <td>9.275884</td>\n",
       "      <td>NaN</td>\n",
       "      <td>418.606213</td>\n",
       "      <td>16.868637</td>\n",
       "      <td>66.420093</td>\n",
       "      <td>3.055934</td>\n",
       "      <td>0</td>\n",
       "    </tr>\n",
       "    <tr>\n",
       "      <th>3</th>\n",
       "      <td>8.316766</td>\n",
       "      <td>214.373394</td>\n",
       "      <td>22018.417441</td>\n",
       "      <td>8.059332</td>\n",
       "      <td>356.886136</td>\n",
       "      <td>363.266516</td>\n",
       "      <td>18.436524</td>\n",
       "      <td>100.341674</td>\n",
       "      <td>4.628771</td>\n",
       "      <td>0</td>\n",
       "    </tr>\n",
       "    <tr>\n",
       "      <th>4</th>\n",
       "      <td>9.092223</td>\n",
       "      <td>181.101509</td>\n",
       "      <td>17978.986339</td>\n",
       "      <td>6.546600</td>\n",
       "      <td>310.135738</td>\n",
       "      <td>398.410813</td>\n",
       "      <td>11.558279</td>\n",
       "      <td>31.997993</td>\n",
       "      <td>4.075075</td>\n",
       "      <td>0</td>\n",
       "    </tr>\n",
       "    <tr>\n",
       "      <th>...</th>\n",
       "      <td>...</td>\n",
       "      <td>...</td>\n",
       "      <td>...</td>\n",
       "      <td>...</td>\n",
       "      <td>...</td>\n",
       "      <td>...</td>\n",
       "      <td>...</td>\n",
       "      <td>...</td>\n",
       "      <td>...</td>\n",
       "      <td>...</td>\n",
       "    </tr>\n",
       "    <tr>\n",
       "      <th>3271</th>\n",
       "      <td>4.668102</td>\n",
       "      <td>193.681735</td>\n",
       "      <td>47580.991603</td>\n",
       "      <td>7.166639</td>\n",
       "      <td>359.948574</td>\n",
       "      <td>526.424171</td>\n",
       "      <td>13.894419</td>\n",
       "      <td>66.687695</td>\n",
       "      <td>4.435821</td>\n",
       "      <td>1</td>\n",
       "    </tr>\n",
       "    <tr>\n",
       "      <th>3272</th>\n",
       "      <td>7.808856</td>\n",
       "      <td>193.553212</td>\n",
       "      <td>17329.802160</td>\n",
       "      <td>8.061362</td>\n",
       "      <td>NaN</td>\n",
       "      <td>392.449580</td>\n",
       "      <td>19.903225</td>\n",
       "      <td>NaN</td>\n",
       "      <td>2.798243</td>\n",
       "      <td>1</td>\n",
       "    </tr>\n",
       "    <tr>\n",
       "      <th>3273</th>\n",
       "      <td>9.419510</td>\n",
       "      <td>175.762646</td>\n",
       "      <td>33155.578218</td>\n",
       "      <td>7.350233</td>\n",
       "      <td>NaN</td>\n",
       "      <td>432.044783</td>\n",
       "      <td>11.039070</td>\n",
       "      <td>69.845400</td>\n",
       "      <td>3.298875</td>\n",
       "      <td>1</td>\n",
       "    </tr>\n",
       "    <tr>\n",
       "      <th>3274</th>\n",
       "      <td>5.126763</td>\n",
       "      <td>230.603758</td>\n",
       "      <td>11983.869376</td>\n",
       "      <td>6.303357</td>\n",
       "      <td>NaN</td>\n",
       "      <td>402.883113</td>\n",
       "      <td>11.168946</td>\n",
       "      <td>77.488213</td>\n",
       "      <td>4.708658</td>\n",
       "      <td>1</td>\n",
       "    </tr>\n",
       "    <tr>\n",
       "      <th>3275</th>\n",
       "      <td>7.874671</td>\n",
       "      <td>195.102299</td>\n",
       "      <td>17404.177061</td>\n",
       "      <td>7.509306</td>\n",
       "      <td>NaN</td>\n",
       "      <td>327.459760</td>\n",
       "      <td>16.140368</td>\n",
       "      <td>78.698446</td>\n",
       "      <td>2.309149</td>\n",
       "      <td>1</td>\n",
       "    </tr>\n",
       "  </tbody>\n",
       "</table>\n",
       "<p>3276 rows × 10 columns</p>\n",
       "</div>"
      ],
      "text/plain": [
       "            ph    Hardness        Solids  Chloramines     Sulfate  \\\n",
       "0          NaN  204.890455  20791.318981     7.300212  368.516441   \n",
       "1     3.716080  129.422921  18630.057858     6.635246         NaN   \n",
       "2     8.099124  224.236259  19909.541732     9.275884         NaN   \n",
       "3     8.316766  214.373394  22018.417441     8.059332  356.886136   \n",
       "4     9.092223  181.101509  17978.986339     6.546600  310.135738   \n",
       "...        ...         ...           ...          ...         ...   \n",
       "3271  4.668102  193.681735  47580.991603     7.166639  359.948574   \n",
       "3272  7.808856  193.553212  17329.802160     8.061362         NaN   \n",
       "3273  9.419510  175.762646  33155.578218     7.350233         NaN   \n",
       "3274  5.126763  230.603758  11983.869376     6.303357         NaN   \n",
       "3275  7.874671  195.102299  17404.177061     7.509306         NaN   \n",
       "\n",
       "      Conductivity  Organic_carbon  Trihalomethanes  Turbidity  Potability  \n",
       "0       564.308654       10.379783        86.990970   2.963135           0  \n",
       "1       592.885359       15.180013        56.329076   4.500656           0  \n",
       "2       418.606213       16.868637        66.420093   3.055934           0  \n",
       "3       363.266516       18.436524       100.341674   4.628771           0  \n",
       "4       398.410813       11.558279        31.997993   4.075075           0  \n",
       "...            ...             ...              ...        ...         ...  \n",
       "3271    526.424171       13.894419        66.687695   4.435821           1  \n",
       "3272    392.449580       19.903225              NaN   2.798243           1  \n",
       "3273    432.044783       11.039070        69.845400   3.298875           1  \n",
       "3274    402.883113       11.168946        77.488213   4.708658           1  \n",
       "3275    327.459760       16.140368        78.698446   2.309149           1  \n",
       "\n",
       "[3276 rows x 10 columns]"
      ]
     },
     "execution_count": 3,
     "metadata": {},
     "output_type": "execute_result"
    }
   ],
   "source": [
    "df"
   ]
  },
  {
   "cell_type": "markdown",
   "metadata": {},
   "source": [
    "# Dataframe Observation\n",
    "\n",
    "Dependent -'Potability'\n",
    "Independent -['ph', 'Hardness', 'Solids', 'Chloramines', 'Sulfate', 'Conductivity',\n",
    "              'Organic_carbon', 'Trihalomethanes', 'Turbidity']\n",
    "\n",
    "\n",
    "\n",
    "# Supervised\n",
    "     "
   ]
  },
  {
   "cell_type": "code",
   "execution_count": 4,
   "metadata": {},
   "outputs": [],
   "source": [
    "continuous_columns = ['ph', 'Hardness', 'Solids', 'Chloramines', 'Sulfate', 'Conductivity',\n",
    "       'Organic_carbon', 'Trihalomethanes', 'Turbidity']\n",
    "category_columns = ['Potability']"
   ]
  },
  {
   "cell_type": "markdown",
   "metadata": {},
   "source": [
    "# Data Cleaning"
   ]
  },
  {
   "cell_type": "code",
   "execution_count": 5,
   "metadata": {},
   "outputs": [
    {
     "name": "stdout",
     "output_type": "stream",
     "text": [
      "<class 'pandas.core.frame.DataFrame'>\n",
      "RangeIndex: 3276 entries, 0 to 3275\n",
      "Data columns (total 10 columns):\n",
      " #   Column           Non-Null Count  Dtype  \n",
      "---  ------           --------------  -----  \n",
      " 0   ph               2785 non-null   float64\n",
      " 1   Hardness         3276 non-null   float64\n",
      " 2   Solids           3276 non-null   float64\n",
      " 3   Chloramines      3276 non-null   float64\n",
      " 4   Sulfate          2495 non-null   float64\n",
      " 5   Conductivity     3276 non-null   float64\n",
      " 6   Organic_carbon   3276 non-null   float64\n",
      " 7   Trihalomethanes  3114 non-null   float64\n",
      " 8   Turbidity        3276 non-null   float64\n",
      " 9   Potability       3276 non-null   int64  \n",
      "dtypes: float64(9), int64(1)\n",
      "memory usage: 256.1 KB\n"
     ]
    }
   ],
   "source": [
    "df.info()"
   ]
  },
  {
   "cell_type": "code",
   "execution_count": 6,
   "metadata": {},
   "outputs": [
    {
     "data": {
      "text/plain": [
       "ph                 491\n",
       "Hardness             0\n",
       "Solids               0\n",
       "Chloramines          0\n",
       "Sulfate            781\n",
       "Conductivity         0\n",
       "Organic_carbon       0\n",
       "Trihalomethanes    162\n",
       "Turbidity            0\n",
       "Potability           0\n",
       "dtype: int64"
      ]
     },
     "execution_count": 6,
     "metadata": {},
     "output_type": "execute_result"
    }
   ],
   "source": [
    "df.isnull().sum()"
   ]
  },
  {
   "cell_type": "code",
   "execution_count": 7,
   "metadata": {},
   "outputs": [
    {
     "data": {
      "text/plain": [
       "Sulfate\n",
       "368.516441    1\n",
       "301.230848    1\n",
       "391.918229    1\n",
       "330.905370    1\n",
       "402.313427    1\n",
       "             ..\n",
       "359.710517    1\n",
       "389.219586    1\n",
       "337.231469    1\n",
       "396.091917    1\n",
       "359.948574    1\n",
       "Name: count, Length: 2495, dtype: int64"
      ]
     },
     "execution_count": 7,
     "metadata": {},
     "output_type": "execute_result"
    }
   ],
   "source": [
    "df.Sulfate.value_counts()"
   ]
  },
  {
   "cell_type": "code",
   "execution_count": null,
   "metadata": {},
   "outputs": [],
   "source": [
    "df.ph.fillna(method='bfill',inplace=True)\n",
    "df.Sulfate.fillna(method='bfill',inplace=True)\n",
    "df.Trihalomethanes.fillna(method='bfill',inplace=True)"
   ]
  },
  {
   "cell_type": "code",
   "execution_count": 9,
   "metadata": {},
   "outputs": [
    {
     "data": {
      "text/plain": [
       "ph                 0\n",
       "Hardness           0\n",
       "Solids             0\n",
       "Chloramines        0\n",
       "Sulfate            4\n",
       "Conductivity       0\n",
       "Organic_carbon     0\n",
       "Trihalomethanes    0\n",
       "Turbidity          0\n",
       "Potability         0\n",
       "dtype: int64"
      ]
     },
     "execution_count": 9,
     "metadata": {},
     "output_type": "execute_result"
    }
   ],
   "source": [
    "df.isnull().sum()"
   ]
  },
  {
   "cell_type": "code",
   "execution_count": 10,
   "metadata": {},
   "outputs": [
    {
     "data": {
      "text/plain": [
       "0"
      ]
     },
     "execution_count": 10,
     "metadata": {},
     "output_type": "execute_result"
    }
   ],
   "source": [
    "df.duplicated().sum()"
   ]
  },
  {
   "cell_type": "markdown",
   "metadata": {},
   "source": [
    "# Statistical Analysis/ Hypothesis Testing\n",
    "\n",
    "Continuous - Central Limit Theorem, 1-Tailed Test (one-sample t-test)\n",
    "\n",
    "Continuous vs. Continuous - Correlation, 2-Tailed Test (two-sample t-test)\n",
    "\n",
    "Continuous vs. Categorical - ANOVA (Analysis of Variance)\n",
    "\n",
    "Categorical vs. Categorical - Chi-Square Test"
   ]
  },
  {
   "cell_type": "code",
   "execution_count": 11,
   "metadata": {},
   "outputs": [],
   "source": [
    "def hypothesisTesting(continuous_columns=[], category_columns=[], sampling_rate=0.20, sampling_frac=0.05):\n",
    "    # Central Limit Theorem\n",
    "    oneContinuousColumn_result = {}\n",
    "    hypothesis_df = pd.DataFrame(columns=df.columns, index=df.columns)\n",
    "    \n",
    "    if continuous_columns:\n",
    "        samplesize = int(sampling_rate * len(df[continuous_columns[0]]))\n",
    "        for column in continuous_columns:\n",
    "            population = df[column].values\n",
    "            population_mean = population.mean()\n",
    "            sample_mean = []\n",
    "            for i in range(40):\n",
    "                sample = np.random.choice(population, samplesize)\n",
    "                sample_mean.append(sample.mean())\n",
    "            oneContinuousColumn_result[column] = {\n",
    "                \"Population Mean\": population_mean,\n",
    "                \"Sample Means\": {np.mean(sample_mean)}\n",
    "            }\n",
    "\n",
    "    # 1-Tailed Test\n",
    "    if continuous_columns:\n",
    "        samplesize = int(sampling_rate * len(df[continuous_columns[0]]))\n",
    "        for column in continuous_columns:\n",
    "            H0_accepted = 0\n",
    "            H0_rejected = 0\n",
    "            for i in range(samplesize):\n",
    "                sample = df[column].sample(frac=sampling_frac)\n",
    "                t_test, p_value = stats.ttest_1samp(sample, df[column].mean())\n",
    "                if p_value > 0.5:\n",
    "                    H0_accepted += 1\n",
    "                else:\n",
    "                    H0_rejected += 1\n",
    "\n",
    "            if H0_accepted > H0_rejected:\n",
    "                oneContinuousColumn_result[column].update({\n",
    "                    \"H0_accepted\": H0_accepted,\n",
    "                    \"H0_rejected\": H0_rejected,\n",
    "                    \"Conclusion\": \"H0 is accepted, Ha is rejected, There is no significant effect\"\n",
    "                })\n",
    "                hypothesis_df.loc[column, column] = \"There is a relationship\"\n",
    "            else:\n",
    "                oneContinuousColumn_result[column].update({\n",
    "                    \"H0_accepted\": H0_accepted,\n",
    "                    \"H0_rejected\": H0_rejected,\n",
    "                    \"Conclusion\": \"H0 is rejected, Ha is accepted, There is a significant effect\"\n",
    "                })\n",
    "                hypothesis_df.loc[column, column] = \"There is no relationship\"\n",
    "\n",
    "    # 2-Tailed Test\n",
    "    for i in range(len(continuous_columns) - 1):\n",
    "        column_1 = continuous_columns[i]\n",
    "        for column_2 in continuous_columns[i + 1:]:\n",
    "            H0_accepted = 0\n",
    "            H0_rejected = 0\n",
    "            for i in range(20):\n",
    "                sample1 = df[column_1].sample(frac=sampling_frac)\n",
    "                sample2 = df[column_2].sample(frac=sampling_frac)\n",
    "                t_test, p_value = stats.ttest_ind(sample1, sample2)\n",
    "                if p_value > 0.5:\n",
    "                    H0_accepted += 1\n",
    "                else:\n",
    "                    H0_rejected += 1\n",
    "\n",
    "            if H0_accepted > H0_rejected:\n",
    "                hypothesis_df.loc[column_1, column_2] = \"There is a relationship\"\n",
    "                hypothesis_df.loc[column_2, column_1] = \"There is a relationship\"\n",
    "            else:\n",
    "                hypothesis_df.loc[column_1, column_2] = \"There is no relationship\"\n",
    "                hypothesis_df.loc[column_2, column_1] = \"There is no relationship\"\n",
    "\n",
    "    # Chi-Square Test\n",
    "    if category_columns:\n",
    "        for i in range(len(category_columns) - 1):\n",
    "            column_1 = category_columns[i]\n",
    "            for column_2 in category_columns[i + 1:]:\n",
    "                data = pd.crosstab(df[column_1], df[column_2])\n",
    "                observed_values = data.values\n",
    "                chi2_stat, p_value, _, _ = stats.chi2_contingency(observed_values)\n",
    "\n",
    "                if p_value > 0.05:\n",
    "                    hypothesis_df.loc[column_1, column_2] = \"There is no relationship\"\n",
    "                    hypothesis_df.loc[column_2, column_1] = \"There is no relationship\"\n",
    "                else:\n",
    "                    hypothesis_df.loc[column_1, column_2] = \"There is a relationship\"\n",
    "                    hypothesis_df.loc[column_2, column_1] = \"There is a relationship\"\n",
    "\n",
    "    # ANOVA\n",
    "    if continuous_columns and category_columns:\n",
    "        for category_column in category_columns:\n",
    "            for continuous_column in continuous_columns:\n",
    "                group = df[category_column].unique()\n",
    "                data = {}\n",
    "                for i in group:\n",
    "                    data[i] = df[continuous_column][df[category_column] == i]\n",
    "\n",
    "                f_value, p_value = stats.f_oneway(*[data[i] for i in group])\n",
    "                if p_value > 0.05:\n",
    "                    hypothesis_df.loc[category_column, continuous_column] = \"There is a relationship\"\n",
    "                    hypothesis_df.loc[continuous_column, category_column] = \"There is a relationship\"\n",
    "                else:\n",
    "                    hypothesis_df.loc[category_column, continuous_column] = \"There is no relationship\"\n",
    "                    hypothesis_df.loc[continuous_column, category_column] = \"There is no relationship\"\n",
    "\n",
    "    return oneContinuousColumn_result, hypothesis_df"
   ]
  },
  {
   "cell_type": "code",
   "execution_count": 12,
   "metadata": {},
   "outputs": [
    {
     "data": {
      "text/html": [
       "<div>\n",
       "<style scoped>\n",
       "    .dataframe tbody tr th:only-of-type {\n",
       "        vertical-align: middle;\n",
       "    }\n",
       "\n",
       "    .dataframe tbody tr th {\n",
       "        vertical-align: top;\n",
       "    }\n",
       "\n",
       "    .dataframe thead th {\n",
       "        text-align: right;\n",
       "    }\n",
       "</style>\n",
       "<table border=\"1\" class=\"dataframe\">\n",
       "  <thead>\n",
       "    <tr style=\"text-align: right;\">\n",
       "      <th></th>\n",
       "      <th>ph</th>\n",
       "      <th>Hardness</th>\n",
       "      <th>Solids</th>\n",
       "      <th>Chloramines</th>\n",
       "      <th>Sulfate</th>\n",
       "      <th>Conductivity</th>\n",
       "      <th>Organic_carbon</th>\n",
       "      <th>Trihalomethanes</th>\n",
       "      <th>Turbidity</th>\n",
       "      <th>Potability</th>\n",
       "    </tr>\n",
       "  </thead>\n",
       "  <tbody>\n",
       "    <tr>\n",
       "      <th>ph</th>\n",
       "      <td>1.000000</td>\n",
       "      <td>0.073032</td>\n",
       "      <td>-0.068213</td>\n",
       "      <td>-0.023433</td>\n",
       "      <td>0.021896</td>\n",
       "      <td>0.018673</td>\n",
       "      <td>0.054499</td>\n",
       "      <td>0.012463</td>\n",
       "      <td>-0.034797</td>\n",
       "      <td>0.000424</td>\n",
       "    </tr>\n",
       "    <tr>\n",
       "      <th>Hardness</th>\n",
       "      <td>0.073032</td>\n",
       "      <td>1.000000</td>\n",
       "      <td>-0.046899</td>\n",
       "      <td>-0.030054</td>\n",
       "      <td>-0.075576</td>\n",
       "      <td>-0.023915</td>\n",
       "      <td>0.003610</td>\n",
       "      <td>-0.015412</td>\n",
       "      <td>-0.014449</td>\n",
       "      <td>-0.013837</td>\n",
       "    </tr>\n",
       "    <tr>\n",
       "      <th>Solids</th>\n",
       "      <td>-0.068213</td>\n",
       "      <td>-0.046899</td>\n",
       "      <td>1.000000</td>\n",
       "      <td>-0.070148</td>\n",
       "      <td>-0.121417</td>\n",
       "      <td>0.013831</td>\n",
       "      <td>0.010242</td>\n",
       "      <td>-0.004702</td>\n",
       "      <td>0.019546</td>\n",
       "      <td>0.033743</td>\n",
       "    </tr>\n",
       "    <tr>\n",
       "      <th>Chloramines</th>\n",
       "      <td>-0.023433</td>\n",
       "      <td>-0.030054</td>\n",
       "      <td>-0.070148</td>\n",
       "      <td>1.000000</td>\n",
       "      <td>0.014542</td>\n",
       "      <td>-0.020486</td>\n",
       "      <td>-0.012653</td>\n",
       "      <td>0.017118</td>\n",
       "      <td>0.002363</td>\n",
       "      <td>0.023779</td>\n",
       "    </tr>\n",
       "    <tr>\n",
       "      <th>Sulfate</th>\n",
       "      <td>0.021896</td>\n",
       "      <td>-0.075576</td>\n",
       "      <td>-0.121417</td>\n",
       "      <td>0.014542</td>\n",
       "      <td>1.000000</td>\n",
       "      <td>-0.009529</td>\n",
       "      <td>0.029011</td>\n",
       "      <td>-0.014986</td>\n",
       "      <td>0.013877</td>\n",
       "      <td>-0.023603</td>\n",
       "    </tr>\n",
       "    <tr>\n",
       "      <th>Conductivity</th>\n",
       "      <td>0.018673</td>\n",
       "      <td>-0.023915</td>\n",
       "      <td>0.013831</td>\n",
       "      <td>-0.020486</td>\n",
       "      <td>-0.009529</td>\n",
       "      <td>1.000000</td>\n",
       "      <td>0.020966</td>\n",
       "      <td>0.004609</td>\n",
       "      <td>0.005798</td>\n",
       "      <td>-0.008128</td>\n",
       "    </tr>\n",
       "    <tr>\n",
       "      <th>Organic_carbon</th>\n",
       "      <td>0.054499</td>\n",
       "      <td>0.003610</td>\n",
       "      <td>0.010242</td>\n",
       "      <td>-0.012653</td>\n",
       "      <td>0.029011</td>\n",
       "      <td>0.020966</td>\n",
       "      <td>1.000000</td>\n",
       "      <td>-0.017672</td>\n",
       "      <td>-0.027308</td>\n",
       "      <td>-0.030001</td>\n",
       "    </tr>\n",
       "    <tr>\n",
       "      <th>Trihalomethanes</th>\n",
       "      <td>0.012463</td>\n",
       "      <td>-0.015412</td>\n",
       "      <td>-0.004702</td>\n",
       "      <td>0.017118</td>\n",
       "      <td>-0.014986</td>\n",
       "      <td>0.004609</td>\n",
       "      <td>-0.017672</td>\n",
       "      <td>1.000000</td>\n",
       "      <td>-0.027891</td>\n",
       "      <td>0.014336</td>\n",
       "    </tr>\n",
       "    <tr>\n",
       "      <th>Turbidity</th>\n",
       "      <td>-0.034797</td>\n",
       "      <td>-0.014449</td>\n",
       "      <td>0.019546</td>\n",
       "      <td>0.002363</td>\n",
       "      <td>0.013877</td>\n",
       "      <td>0.005798</td>\n",
       "      <td>-0.027308</td>\n",
       "      <td>-0.027891</td>\n",
       "      <td>1.000000</td>\n",
       "      <td>0.001581</td>\n",
       "    </tr>\n",
       "    <tr>\n",
       "      <th>Potability</th>\n",
       "      <td>0.000424</td>\n",
       "      <td>-0.013837</td>\n",
       "      <td>0.033743</td>\n",
       "      <td>0.023779</td>\n",
       "      <td>-0.023603</td>\n",
       "      <td>-0.008128</td>\n",
       "      <td>-0.030001</td>\n",
       "      <td>0.014336</td>\n",
       "      <td>0.001581</td>\n",
       "      <td>1.000000</td>\n",
       "    </tr>\n",
       "  </tbody>\n",
       "</table>\n",
       "</div>"
      ],
      "text/plain": [
       "                       ph  Hardness    Solids  Chloramines   Sulfate  \\\n",
       "ph               1.000000  0.073032 -0.068213    -0.023433  0.021896   \n",
       "Hardness         0.073032  1.000000 -0.046899    -0.030054 -0.075576   \n",
       "Solids          -0.068213 -0.046899  1.000000    -0.070148 -0.121417   \n",
       "Chloramines     -0.023433 -0.030054 -0.070148     1.000000  0.014542   \n",
       "Sulfate          0.021896 -0.075576 -0.121417     0.014542  1.000000   \n",
       "Conductivity     0.018673 -0.023915  0.013831    -0.020486 -0.009529   \n",
       "Organic_carbon   0.054499  0.003610  0.010242    -0.012653  0.029011   \n",
       "Trihalomethanes  0.012463 -0.015412 -0.004702     0.017118 -0.014986   \n",
       "Turbidity       -0.034797 -0.014449  0.019546     0.002363  0.013877   \n",
       "Potability       0.000424 -0.013837  0.033743     0.023779 -0.023603   \n",
       "\n",
       "                 Conductivity  Organic_carbon  Trihalomethanes  Turbidity  \\\n",
       "ph                   0.018673        0.054499         0.012463  -0.034797   \n",
       "Hardness            -0.023915        0.003610        -0.015412  -0.014449   \n",
       "Solids               0.013831        0.010242        -0.004702   0.019546   \n",
       "Chloramines         -0.020486       -0.012653         0.017118   0.002363   \n",
       "Sulfate             -0.009529        0.029011        -0.014986   0.013877   \n",
       "Conductivity         1.000000        0.020966         0.004609   0.005798   \n",
       "Organic_carbon       0.020966        1.000000        -0.017672  -0.027308   \n",
       "Trihalomethanes      0.004609       -0.017672         1.000000  -0.027891   \n",
       "Turbidity            0.005798       -0.027308        -0.027891   1.000000   \n",
       "Potability          -0.008128       -0.030001         0.014336   0.001581   \n",
       "\n",
       "                 Potability  \n",
       "ph                 0.000424  \n",
       "Hardness          -0.013837  \n",
       "Solids             0.033743  \n",
       "Chloramines        0.023779  \n",
       "Sulfate           -0.023603  \n",
       "Conductivity      -0.008128  \n",
       "Organic_carbon    -0.030001  \n",
       "Trihalomethanes    0.014336  \n",
       "Turbidity          0.001581  \n",
       "Potability         1.000000  "
      ]
     },
     "execution_count": 12,
     "metadata": {},
     "output_type": "execute_result"
    }
   ],
   "source": [
    "df.corr()"
   ]
  },
  {
   "cell_type": "code",
   "execution_count": 13,
   "metadata": {},
   "outputs": [],
   "source": [
    "ContinesColumn_result, comperativeColumn_result = hypothesisTesting(continuous_columns , category_columns)"
   ]
  },
  {
   "cell_type": "code",
   "execution_count": 14,
   "metadata": {},
   "outputs": [
    {
     "data": {
      "text/html": [
       "<div>\n",
       "<style scoped>\n",
       "    .dataframe tbody tr th:only-of-type {\n",
       "        vertical-align: middle;\n",
       "    }\n",
       "\n",
       "    .dataframe tbody tr th {\n",
       "        vertical-align: top;\n",
       "    }\n",
       "\n",
       "    .dataframe thead th {\n",
       "        text-align: right;\n",
       "    }\n",
       "</style>\n",
       "<table border=\"1\" class=\"dataframe\">\n",
       "  <thead>\n",
       "    <tr style=\"text-align: right;\">\n",
       "      <th></th>\n",
       "      <th>ph</th>\n",
       "      <th>Hardness</th>\n",
       "      <th>Solids</th>\n",
       "      <th>Chloramines</th>\n",
       "      <th>Sulfate</th>\n",
       "      <th>Conductivity</th>\n",
       "      <th>Organic_carbon</th>\n",
       "      <th>Trihalomethanes</th>\n",
       "      <th>Turbidity</th>\n",
       "    </tr>\n",
       "  </thead>\n",
       "  <tbody>\n",
       "    <tr>\n",
       "      <th>Population Mean</th>\n",
       "      <td>7.068424</td>\n",
       "      <td>196.369496</td>\n",
       "      <td>22014.092526</td>\n",
       "      <td>7.122277</td>\n",
       "      <td>NaN</td>\n",
       "      <td>426.205111</td>\n",
       "      <td>14.28497</td>\n",
       "      <td>66.501175</td>\n",
       "      <td>3.966786</td>\n",
       "    </tr>\n",
       "    <tr>\n",
       "      <th>Sample Means</th>\n",
       "      <td>{7.0764348309771306}</td>\n",
       "      <td>{196.43944439420346}</td>\n",
       "      <td>{22016.68246520688}</td>\n",
       "      <td>{7.126475778551017}</td>\n",
       "      <td>{nan}</td>\n",
       "      <td>{426.0092704349022}</td>\n",
       "      <td>{14.28967029230804}</td>\n",
       "      <td>{66.3228944317698}</td>\n",
       "      <td>{3.9622656238806444}</td>\n",
       "    </tr>\n",
       "    <tr>\n",
       "      <th>H0_accepted</th>\n",
       "      <td>328</td>\n",
       "      <td>338</td>\n",
       "      <td>320</td>\n",
       "      <td>356</td>\n",
       "      <td>270</td>\n",
       "      <td>325</td>\n",
       "      <td>336</td>\n",
       "      <td>330</td>\n",
       "      <td>334</td>\n",
       "    </tr>\n",
       "    <tr>\n",
       "      <th>H0_rejected</th>\n",
       "      <td>327</td>\n",
       "      <td>317</td>\n",
       "      <td>335</td>\n",
       "      <td>299</td>\n",
       "      <td>385</td>\n",
       "      <td>330</td>\n",
       "      <td>319</td>\n",
       "      <td>325</td>\n",
       "      <td>321</td>\n",
       "    </tr>\n",
       "    <tr>\n",
       "      <th>Conclusion</th>\n",
       "      <td>H0 is accepted, Ha is rejected, There is no si...</td>\n",
       "      <td>H0 is accepted, Ha is rejected, There is no si...</td>\n",
       "      <td>H0 is rejected, Ha is accepted, There is a sig...</td>\n",
       "      <td>H0 is accepted, Ha is rejected, There is no si...</td>\n",
       "      <td>H0 is rejected, Ha is accepted, There is a sig...</td>\n",
       "      <td>H0 is rejected, Ha is accepted, There is a sig...</td>\n",
       "      <td>H0 is accepted, Ha is rejected, There is no si...</td>\n",
       "      <td>H0 is accepted, Ha is rejected, There is no si...</td>\n",
       "      <td>H0 is accepted, Ha is rejected, There is no si...</td>\n",
       "    </tr>\n",
       "  </tbody>\n",
       "</table>\n",
       "</div>"
      ],
      "text/plain": [
       "                                                                ph  \\\n",
       "Population Mean                                           7.068424   \n",
       "Sample Means                                  {7.0764348309771306}   \n",
       "H0_accepted                                                    328   \n",
       "H0_rejected                                                    327   \n",
       "Conclusion       H0 is accepted, Ha is rejected, There is no si...   \n",
       "\n",
       "                                                          Hardness  \\\n",
       "Population Mean                                         196.369496   \n",
       "Sample Means                                  {196.43944439420346}   \n",
       "H0_accepted                                                    338   \n",
       "H0_rejected                                                    317   \n",
       "Conclusion       H0 is accepted, Ha is rejected, There is no si...   \n",
       "\n",
       "                                                            Solids  \\\n",
       "Population Mean                                       22014.092526   \n",
       "Sample Means                                   {22016.68246520688}   \n",
       "H0_accepted                                                    320   \n",
       "H0_rejected                                                    335   \n",
       "Conclusion       H0 is rejected, Ha is accepted, There is a sig...   \n",
       "\n",
       "                                                       Chloramines  \\\n",
       "Population Mean                                           7.122277   \n",
       "Sample Means                                   {7.126475778551017}   \n",
       "H0_accepted                                                    356   \n",
       "H0_rejected                                                    299   \n",
       "Conclusion       H0 is accepted, Ha is rejected, There is no si...   \n",
       "\n",
       "                                                           Sulfate  \\\n",
       "Population Mean                                                NaN   \n",
       "Sample Means                                                 {nan}   \n",
       "H0_accepted                                                    270   \n",
       "H0_rejected                                                    385   \n",
       "Conclusion       H0 is rejected, Ha is accepted, There is a sig...   \n",
       "\n",
       "                                                      Conductivity  \\\n",
       "Population Mean                                         426.205111   \n",
       "Sample Means                                   {426.0092704349022}   \n",
       "H0_accepted                                                    325   \n",
       "H0_rejected                                                    330   \n",
       "Conclusion       H0 is rejected, Ha is accepted, There is a sig...   \n",
       "\n",
       "                                                    Organic_carbon  \\\n",
       "Population Mean                                           14.28497   \n",
       "Sample Means                                   {14.28967029230804}   \n",
       "H0_accepted                                                    336   \n",
       "H0_rejected                                                    319   \n",
       "Conclusion       H0 is accepted, Ha is rejected, There is no si...   \n",
       "\n",
       "                                                   Trihalomethanes  \\\n",
       "Population Mean                                          66.501175   \n",
       "Sample Means                                    {66.3228944317698}   \n",
       "H0_accepted                                                    330   \n",
       "H0_rejected                                                    325   \n",
       "Conclusion       H0 is accepted, Ha is rejected, There is no si...   \n",
       "\n",
       "                                                         Turbidity  \n",
       "Population Mean                                           3.966786  \n",
       "Sample Means                                  {3.9622656238806444}  \n",
       "H0_accepted                                                    334  \n",
       "H0_rejected                                                    321  \n",
       "Conclusion       H0 is accepted, Ha is rejected, There is no si...  "
      ]
     },
     "execution_count": 14,
     "metadata": {},
     "output_type": "execute_result"
    }
   ],
   "source": [
    "\n",
    "ContinesColumn_result_df = pd.DataFrame(ContinesColumn_result)\n",
    "ContinesColumn_result_df"
   ]
  },
  {
   "cell_type": "code",
   "execution_count": 15,
   "metadata": {},
   "outputs": [
    {
     "data": {
      "text/html": [
       "<div>\n",
       "<style scoped>\n",
       "    .dataframe tbody tr th:only-of-type {\n",
       "        vertical-align: middle;\n",
       "    }\n",
       "\n",
       "    .dataframe tbody tr th {\n",
       "        vertical-align: top;\n",
       "    }\n",
       "\n",
       "    .dataframe thead th {\n",
       "        text-align: right;\n",
       "    }\n",
       "</style>\n",
       "<table border=\"1\" class=\"dataframe\">\n",
       "  <thead>\n",
       "    <tr style=\"text-align: right;\">\n",
       "      <th></th>\n",
       "      <th>ph</th>\n",
       "      <th>Hardness</th>\n",
       "      <th>Solids</th>\n",
       "      <th>Chloramines</th>\n",
       "      <th>Sulfate</th>\n",
       "      <th>Conductivity</th>\n",
       "      <th>Organic_carbon</th>\n",
       "      <th>Trihalomethanes</th>\n",
       "      <th>Turbidity</th>\n",
       "      <th>Potability</th>\n",
       "    </tr>\n",
       "  </thead>\n",
       "  <tbody>\n",
       "    <tr>\n",
       "      <th>ph</th>\n",
       "      <td>There is a relationship</td>\n",
       "      <td>There is no relationship</td>\n",
       "      <td>There is no relationship</td>\n",
       "      <td>There is no relationship</td>\n",
       "      <td>There is no relationship</td>\n",
       "      <td>There is no relationship</td>\n",
       "      <td>There is no relationship</td>\n",
       "      <td>There is no relationship</td>\n",
       "      <td>There is no relationship</td>\n",
       "      <td>There is a relationship</td>\n",
       "    </tr>\n",
       "    <tr>\n",
       "      <th>Hardness</th>\n",
       "      <td>There is no relationship</td>\n",
       "      <td>There is a relationship</td>\n",
       "      <td>There is no relationship</td>\n",
       "      <td>There is no relationship</td>\n",
       "      <td>There is no relationship</td>\n",
       "      <td>There is no relationship</td>\n",
       "      <td>There is no relationship</td>\n",
       "      <td>There is no relationship</td>\n",
       "      <td>There is no relationship</td>\n",
       "      <td>There is a relationship</td>\n",
       "    </tr>\n",
       "    <tr>\n",
       "      <th>Solids</th>\n",
       "      <td>There is no relationship</td>\n",
       "      <td>There is no relationship</td>\n",
       "      <td>There is no relationship</td>\n",
       "      <td>There is no relationship</td>\n",
       "      <td>There is no relationship</td>\n",
       "      <td>There is no relationship</td>\n",
       "      <td>There is no relationship</td>\n",
       "      <td>There is no relationship</td>\n",
       "      <td>There is no relationship</td>\n",
       "      <td>There is a relationship</td>\n",
       "    </tr>\n",
       "    <tr>\n",
       "      <th>Chloramines</th>\n",
       "      <td>There is no relationship</td>\n",
       "      <td>There is no relationship</td>\n",
       "      <td>There is no relationship</td>\n",
       "      <td>There is a relationship</td>\n",
       "      <td>There is no relationship</td>\n",
       "      <td>There is no relationship</td>\n",
       "      <td>There is no relationship</td>\n",
       "      <td>There is no relationship</td>\n",
       "      <td>There is no relationship</td>\n",
       "      <td>There is a relationship</td>\n",
       "    </tr>\n",
       "    <tr>\n",
       "      <th>Sulfate</th>\n",
       "      <td>There is no relationship</td>\n",
       "      <td>There is no relationship</td>\n",
       "      <td>There is no relationship</td>\n",
       "      <td>There is no relationship</td>\n",
       "      <td>There is no relationship</td>\n",
       "      <td>There is no relationship</td>\n",
       "      <td>There is no relationship</td>\n",
       "      <td>There is no relationship</td>\n",
       "      <td>There is no relationship</td>\n",
       "      <td>There is no relationship</td>\n",
       "    </tr>\n",
       "    <tr>\n",
       "      <th>Conductivity</th>\n",
       "      <td>There is no relationship</td>\n",
       "      <td>There is no relationship</td>\n",
       "      <td>There is no relationship</td>\n",
       "      <td>There is no relationship</td>\n",
       "      <td>There is no relationship</td>\n",
       "      <td>There is no relationship</td>\n",
       "      <td>There is no relationship</td>\n",
       "      <td>There is no relationship</td>\n",
       "      <td>There is no relationship</td>\n",
       "      <td>There is a relationship</td>\n",
       "    </tr>\n",
       "    <tr>\n",
       "      <th>Organic_carbon</th>\n",
       "      <td>There is no relationship</td>\n",
       "      <td>There is no relationship</td>\n",
       "      <td>There is no relationship</td>\n",
       "      <td>There is no relationship</td>\n",
       "      <td>There is no relationship</td>\n",
       "      <td>There is no relationship</td>\n",
       "      <td>There is a relationship</td>\n",
       "      <td>There is no relationship</td>\n",
       "      <td>There is no relationship</td>\n",
       "      <td>There is a relationship</td>\n",
       "    </tr>\n",
       "    <tr>\n",
       "      <th>Trihalomethanes</th>\n",
       "      <td>There is no relationship</td>\n",
       "      <td>There is no relationship</td>\n",
       "      <td>There is no relationship</td>\n",
       "      <td>There is no relationship</td>\n",
       "      <td>There is no relationship</td>\n",
       "      <td>There is no relationship</td>\n",
       "      <td>There is no relationship</td>\n",
       "      <td>There is a relationship</td>\n",
       "      <td>There is no relationship</td>\n",
       "      <td>There is a relationship</td>\n",
       "    </tr>\n",
       "    <tr>\n",
       "      <th>Turbidity</th>\n",
       "      <td>There is no relationship</td>\n",
       "      <td>There is no relationship</td>\n",
       "      <td>There is no relationship</td>\n",
       "      <td>There is no relationship</td>\n",
       "      <td>There is no relationship</td>\n",
       "      <td>There is no relationship</td>\n",
       "      <td>There is no relationship</td>\n",
       "      <td>There is no relationship</td>\n",
       "      <td>There is a relationship</td>\n",
       "      <td>There is a relationship</td>\n",
       "    </tr>\n",
       "    <tr>\n",
       "      <th>Potability</th>\n",
       "      <td>There is a relationship</td>\n",
       "      <td>There is a relationship</td>\n",
       "      <td>There is a relationship</td>\n",
       "      <td>There is a relationship</td>\n",
       "      <td>There is no relationship</td>\n",
       "      <td>There is a relationship</td>\n",
       "      <td>There is a relationship</td>\n",
       "      <td>There is a relationship</td>\n",
       "      <td>There is a relationship</td>\n",
       "      <td>NaN</td>\n",
       "    </tr>\n",
       "  </tbody>\n",
       "</table>\n",
       "</div>"
      ],
      "text/plain": [
       "                                       ph                  Hardness  \\\n",
       "ph                There is a relationship  There is no relationship   \n",
       "Hardness         There is no relationship   There is a relationship   \n",
       "Solids           There is no relationship  There is no relationship   \n",
       "Chloramines      There is no relationship  There is no relationship   \n",
       "Sulfate          There is no relationship  There is no relationship   \n",
       "Conductivity     There is no relationship  There is no relationship   \n",
       "Organic_carbon   There is no relationship  There is no relationship   \n",
       "Trihalomethanes  There is no relationship  There is no relationship   \n",
       "Turbidity        There is no relationship  There is no relationship   \n",
       "Potability        There is a relationship   There is a relationship   \n",
       "\n",
       "                                   Solids               Chloramines  \\\n",
       "ph               There is no relationship  There is no relationship   \n",
       "Hardness         There is no relationship  There is no relationship   \n",
       "Solids           There is no relationship  There is no relationship   \n",
       "Chloramines      There is no relationship   There is a relationship   \n",
       "Sulfate          There is no relationship  There is no relationship   \n",
       "Conductivity     There is no relationship  There is no relationship   \n",
       "Organic_carbon   There is no relationship  There is no relationship   \n",
       "Trihalomethanes  There is no relationship  There is no relationship   \n",
       "Turbidity        There is no relationship  There is no relationship   \n",
       "Potability        There is a relationship   There is a relationship   \n",
       "\n",
       "                                  Sulfate              Conductivity  \\\n",
       "ph               There is no relationship  There is no relationship   \n",
       "Hardness         There is no relationship  There is no relationship   \n",
       "Solids           There is no relationship  There is no relationship   \n",
       "Chloramines      There is no relationship  There is no relationship   \n",
       "Sulfate          There is no relationship  There is no relationship   \n",
       "Conductivity     There is no relationship  There is no relationship   \n",
       "Organic_carbon   There is no relationship  There is no relationship   \n",
       "Trihalomethanes  There is no relationship  There is no relationship   \n",
       "Turbidity        There is no relationship  There is no relationship   \n",
       "Potability       There is no relationship   There is a relationship   \n",
       "\n",
       "                           Organic_carbon           Trihalomethanes  \\\n",
       "ph               There is no relationship  There is no relationship   \n",
       "Hardness         There is no relationship  There is no relationship   \n",
       "Solids           There is no relationship  There is no relationship   \n",
       "Chloramines      There is no relationship  There is no relationship   \n",
       "Sulfate          There is no relationship  There is no relationship   \n",
       "Conductivity     There is no relationship  There is no relationship   \n",
       "Organic_carbon    There is a relationship  There is no relationship   \n",
       "Trihalomethanes  There is no relationship   There is a relationship   \n",
       "Turbidity        There is no relationship  There is no relationship   \n",
       "Potability        There is a relationship   There is a relationship   \n",
       "\n",
       "                                Turbidity                Potability  \n",
       "ph               There is no relationship   There is a relationship  \n",
       "Hardness         There is no relationship   There is a relationship  \n",
       "Solids           There is no relationship   There is a relationship  \n",
       "Chloramines      There is no relationship   There is a relationship  \n",
       "Sulfate          There is no relationship  There is no relationship  \n",
       "Conductivity     There is no relationship   There is a relationship  \n",
       "Organic_carbon   There is no relationship   There is a relationship  \n",
       "Trihalomethanes  There is no relationship   There is a relationship  \n",
       "Turbidity         There is a relationship   There is a relationship  \n",
       "Potability        There is a relationship                       NaN  "
      ]
     },
     "execution_count": 15,
     "metadata": {},
     "output_type": "execute_result"
    }
   ],
   "source": [
    "comperativeColumn_result"
   ]
  },
  {
   "cell_type": "code",
   "execution_count": 16,
   "metadata": {},
   "outputs": [
    {
     "data": {
      "image/png": "[encoded data removed]",
      "text/plain": [
       "<Figure size 640x480 with 2 Axes>"
      ]
     },
     "metadata": {},
     "output_type": "display_data"
    }
   ],
   "source": [
    "sns.heatmap(comperativeColumn_result == 'There is a relationship', annot=True, cmap='coolwarm')\n",
    "plt.title('Hypothesis Test Results')\n",
    "plt.show()"
   ]
  },
  {
   "cell_type": "code",
   "execution_count": 17,
   "metadata": {},
   "outputs": [
    {
     "name": "stderr",
     "output_type": "stream",
     "text": [
      "C:\\Users\\Saravanan\\AppData\\Local\\Temp\\ipykernel_15212\\1962030792.py:3: FutureWarning: Downcasting behavior in `replace` is deprecated and will be removed in a future version. To retain the old behavior, explicitly call `result.infer_objects(copy=False)`. To opt-in to the future behavior, set `pd.set_option('future.no_silent_downcasting', True)`\n",
      "  comperativeColumn_result.replace({'There is a relationship': 0, 'There is no relationship': 1}, inplace=True)\n"
     ]
    },
    {
     "data": {
      "application/vnd.plotly.v1+json": {
       "config": {
        "plotlyServerURL": "https://plot.ly"
       },
       "data": [
        {
         "coloraxis": "coloraxis",
         "hovertemplate": "x: %{x}<br>y: %{y}<br>color: %{z}<extra></extra>",
         "name": "0",
         "type": "heatmap",
         "x": [
          "ph",
          "Hardness",
          "Solids",
          "Chloramines",
          "Sulfate",
          "Conductivity",
          "Organic_carbon",
          "Trihalomethanes",
          "Turbidity",
          "Potability"
         ],
         "xaxis": "x",
         "y": [
          "ph",
          "Hardness",
          "Solids",
          "Chloramines",
          "Sulfate",
          "Conductivity",
          "Organic_carbon",
          "Trihalomethanes",
          "Turbidity",
          "Potability"
         ],
         "yaxis": "y",
         "z": [
          [
           0,
           1,
           1,
           1,
           1,
           1,
           1,
           1,
           1,
           0
          ],
          [
           1,
           0,
           1,
           1,
           1,
           1,
           1,
           1,
           1,
           0
          ],
          [
           1,
           1,
           1,
           1,
           1,
           1,
           1,
           1,
           1,
           0
          ],
          [
           1,
           1,
           1,
           0,
           1,
           1,
           1,
           1,
           1,
           0
          ],
          [
           1,
           1,
           1,
           1,
           1,
           1,
           1,
           1,
           1,
           1
          ],
          [
           1,
           1,
           1,
           1,
           1,
           1,
           1,
           1,
           1,
           0
          ],
          [
           1,
           1,
           1,
           1,
           1,
           1,
           0,
           1,
           1,
           0
          ],
          [
           1,
           1,
           1,
           1,
           1,
           1,
           1,
           0,
           1,
           0
          ],
          [
           1,
           1,
           1,
           1,
           1,
           1,
           1,
           1,
           0,
           0
          ],
          [
           0,
           0,
           0,
           0,
           1,
           0,
           0,
           0,
           0,
           3
          ]
         ]
        }
       ],
       "layout": {
        "coloraxis": {
         "colorscale": [
          [
           0,
           "#440154"
          ],
          [
           0.1111111111111111,
           "#482878"
          ],
          [
           0.2222222222222222,
           "#3e4989"
          ],
          [
           0.3333333333333333,
           "#31688e"
          ],
          [
           0.4444444444444444,
           "#26828e"
          ],
          [
           0.5555555555555556,
           "#1f9e89"
          ],
          [
           0.6666666666666666,
           "#35b779"
          ],
          [
           0.7777777777777778,
           "#6ece58"
          ],
          [
           0.8888888888888888,
           "#b5de2b"
          ],
          [
           1,
           "#fde725"
          ]
         ]
        },
        "template": {
         "data": {
          "bar": [
           {
            "error_x": {
             "color": "#2a3f5f"
            },
            "error_y": {
             "color": "#2a3f5f"
            },
            "marker": {
             "line": {
              "color": "#E5ECF6",
              "width": 0.5
             },
             "pattern": {
              "fillmode": "overlay",
              "size": 10,
              "solidity": 0.2
             }
            },
            "type": "bar"
           }
          ],
          "barpolar": [
           {
            "marker": {
             "line": {
              "color": "#E5ECF6",
              "width": 0.5
             },
             "pattern": {
              "fillmode": "overlay",
              "size": 10,
              "solidity": 0.2
             }
            },
            "type": "barpolar"
           }
          ],
          "carpet": [
           {
            "aaxis": {
             "endlinecolor": "#2a3f5f",
             "gridcolor": "white",
             "linecolor": "white",
             "minorgridcolor": "white",
             "startlinecolor": "#2a3f5f"
            },
            "baxis": {
             "endlinecolor": "#2a3f5f",
             "gridcolor": "white",
             "linecolor": "white",
             "minorgridcolor": "white",
             "startlinecolor": "#2a3f5f"
            },
            "type": "carpet"
           }
          ],
          "choropleth": [
           {
            "colorbar": {
             "outlinewidth": 0,
             "ticks": ""
            },
            "type": "choropleth"
           }
          ],
          "contour": [
           {
            "colorbar": {
             "outlinewidth": 0,
             "ticks": ""
            },
            "colorscale": [
             [
              0,
              "#0d0887"
             ],
             [
              0.1111111111111111,
              "#46039f"
             ],
             [
              0.2222222222222222,
              "#7201a8"
             ],
             [
              0.3333333333333333,
              "#9c179e"
             ],
             [
              0.4444444444444444,
              "#bd3786"
             ],
             [
              0.5555555555555556,
              "#d8576b"
             ],
             [
              0.6666666666666666,
              "#ed7953"
             ],
             [
              0.7777777777777778,
              "#fb9f3a"
             ],
             [
              0.8888888888888888,
              "#fdca26"
             ],
             [
              1,
              "#f0f921"
             ]
            ],
            "type": "contour"
           }
          ],
          "contourcarpet": [
           {
            "colorbar": {
             "outlinewidth": 0,
             "ticks": ""
            },
            "type": "contourcarpet"
           }
          ],
          "heatmap": [
           {
            "colorbar": {
             "outlinewidth": 0,
             "ticks": ""
            },
            "colorscale": [
             [
              0,
              "#0d0887"
             ],
             [
              0.1111111111111111,
              "#46039f"
             ],
             [
              0.2222222222222222,
              "#7201a8"
             ],
             [
              0.3333333333333333,
              "#9c179e"
             ],
             [
              0.4444444444444444,
              "#bd3786"
             ],
             [
              0.5555555555555556,
              "#d8576b"
             ],
             [
              0.6666666666666666,
              "#ed7953"
             ],
             [
              0.7777777777777778,
              "#fb9f3a"
             ],
             [
              0.8888888888888888,
              "#fdca26"
             ],
             [
              1,
              "#f0f921"
             ]
            ],
            "type": "heatmap"
           }
          ],
          "heatmapgl": [
           {
            "colorbar": {
             "outlinewidth": 0,
             "ticks": ""
            },
            "colorscale": [
             [
              0,
              "#0d0887"
             ],
             [
              0.1111111111111111,
              "#46039f"
             ],
             [
              0.2222222222222222,
              "#7201a8"
             ],
             [
              0.3333333333333333,
              "#9c179e"
             ],
             [
              0.4444444444444444,
              "#bd3786"
             ],
             [
              0.5555555555555556,
              "#d8576b"
             ],
             [
              0.6666666666666666,
              "#ed7953"
             ],
             [
              0.7777777777777778,
              "#fb9f3a"
             ],
             [
              0.8888888888888888,
              "#fdca26"
             ],
             [
              1,
              "#f0f921"
             ]
            ],
            "type": "heatmapgl"
           }
          ],
          "histogram": [
           {
            "marker": {
             "pattern": {
              "fillmode": "overlay",
              "size": 10,
              "solidity": 0.2
             }
            },
            "type": "histogram"
           }
          ],
          "histogram2d": [
           {
            "colorbar": {
             "outlinewidth": 0,
             "ticks": ""
            },
            "colorscale": [
             [
              0,
              "#0d0887"
             ],
             [
              0.1111111111111111,
              "#46039f"
             ],
             [
              0.2222222222222222,
              "#7201a8"
             ],
             [
              0.3333333333333333,
              "#9c179e"
             ],
             [
              0.4444444444444444,
              "#bd3786"
             ],
             [
              0.5555555555555556,
              "#d8576b"
             ],
             [
              0.6666666666666666,
              "#ed7953"
             ],
             [
              0.7777777777777778,
              "#fb9f3a"
             ],
             [
              0.8888888888888888,
              "#fdca26"
             ],
             [
              1,
              "#f0f921"
             ]
            ],
            "type": "histogram2d"
           }
          ],
          "histogram2dcontour": [
           {
            "colorbar": {
             "outlinewidth": 0,
             "ticks": ""
            },
            "colorscale": [
             [
              0,
              "#0d0887"
             ],
             [
              0.1111111111111111,
              "#46039f"
             ],
             [
              0.2222222222222222,
              "#7201a8"
             ],
             [
              0.3333333333333333,
              "#9c179e"
             ],
             [
              0.4444444444444444,
              "#bd3786"
             ],
             [
              0.5555555555555556,
              "#d8576b"
             ],
             [
              0.6666666666666666,
              "#ed7953"
             ],
             [
              0.7777777777777778,
              "#fb9f3a"
             ],
             [
              0.8888888888888888,
              "#fdca26"
             ],
             [
              1,
              "#f0f921"
             ]
            ],
            "type": "histogram2dcontour"
           }
          ],
          "mesh3d": [
           {
            "colorbar": {
             "outlinewidth": 0,
             "ticks": ""
            },
            "type": "mesh3d"
           }
          ],
          "parcoords": [
           {
            "line": {
             "colorbar": {
              "outlinewidth": 0,
              "ticks": ""
             }
            },
            "type": "parcoords"
           }
          ],
          "pie": [
           {
            "automargin": true,
            "type": "pie"
           }
          ],
          "scatter": [
           {
            "fillpattern": {
             "fillmode": "overlay",
             "size": 10,
             "solidity": 0.2
            },
            "type": "scatter"
           }
          ],
          "scatter3d": [
           {
            "line": {
             "colorbar": {
              "outlinewidth": 0,
              "ticks": ""
             }
            },
            "marker": {
             "colorbar": {
              "outlinewidth": 0,
              "ticks": ""
             }
            },
            "type": "scatter3d"
           }
          ],
          "scattercarpet": [
           {
            "marker": {
             "colorbar": {
              "outlinewidth": 0,
              "ticks": ""
             }
            },
            "type": "scattercarpet"
           }
          ],
          "scattergeo": [
           {
            "marker": {
             "colorbar": {
              "outlinewidth": 0,
              "ticks": ""
             }
            },
            "type": "scattergeo"
           }
          ],
          "scattergl": [
           {
            "marker": {
             "colorbar": {
              "outlinewidth": 0,
              "ticks": ""
             }
            },
            "type": "scattergl"
           }
          ],
          "scattermapbox": [
           {
            "marker": {
             "colorbar": {
              "outlinewidth": 0,
              "ticks": ""
             }
            },
            "type": "scattermapbox"
           }
          ],
          "scatterpolar": [
           {
            "marker": {
             "colorbar": {
              "outlinewidth": 0,
              "ticks": ""
             }
            },
            "type": "scatterpolar"
           }
          ],
          "scatterpolargl": [
           {
            "marker": {
             "colorbar": {
              "outlinewidth": 0,
              "ticks": ""
             }
            },
            "type": "scatterpolargl"
           }
          ],
          "scatterternary": [
           {
            "marker": {
             "colorbar": {
              "outlinewidth": 0,
              "ticks": ""
             }
            },
            "type": "scatterternary"
           }
          ],
          "surface": [
           {
            "colorbar": {
             "outlinewidth": 0,
             "ticks": ""
            },
            "colorscale": [
             [
              0,
              "#0d0887"
             ],
             [
              0.1111111111111111,
              "#46039f"
             ],
             [
              0.2222222222222222,
              "#7201a8"
             ],
             [
              0.3333333333333333,
              "#9c179e"
             ],
             [
              0.4444444444444444,
              "#bd3786"
             ],
             [
              0.5555555555555556,
              "#d8576b"
             ],
             [
              0.6666666666666666,
              "#ed7953"
             ],
             [
              0.7777777777777778,
              "#fb9f3a"
             ],
             [
              0.8888888888888888,
              "#fdca26"
             ],
             [
              1,
              "#f0f921"
             ]
            ],
            "type": "surface"
           }
          ],
          "table": [
           {
            "cells": {
             "fill": {
              "color": "#EBF0F8"
             },
             "line": {
              "color": "white"
             }
            },
            "header": {
             "fill": {
              "color": "#C8D4E3"
             },
             "line": {
              "color": "white"
             }
            },
            "type": "table"
           }
          ]
         },
         "layout": {
          "annotationdefaults": {
           "arrowcolor": "#2a3f5f",
           "arrowhead": 0,
           "arrowwidth": 1
          },
          "autotypenumbers": "strict",
          "coloraxis": {
           "colorbar": {
            "outlinewidth": 0,
            "ticks": ""
           }
          },
          "colorscale": {
           "diverging": [
            [
             0,
             "#8e0152"
            ],
            [
             0.1,
             "#c51b7d"
            ],
            [
             0.2,
             "#de77ae"
            ],
            [
             0.3,
             "#f1b6da"
            ],
            [
             0.4,
             "#fde0ef"
            ],
            [
             0.5,
             "#f7f7f7"
            ],
            [
             0.6,
             "#e6f5d0"
            ],
            [
             0.7,
             "#b8e186"
            ],
            [
             0.8,
             "#7fbc41"
            ],
            [
             0.9,
             "#4d9221"
            ],
            [
             1,
             "#276419"
            ]
           ],
           "sequential": [
            [
             0,
             "#0d0887"
            ],
            [
             0.1111111111111111,
             "#46039f"
            ],
            [
             0.2222222222222222,
             "#7201a8"
            ],
            [
             0.3333333333333333,
             "#9c179e"
            ],
            [
             0.4444444444444444,
             "#bd3786"
            ],
            [
             0.5555555555555556,
             "#d8576b"
            ],
            [
             0.6666666666666666,
             "#ed7953"
            ],
            [
             0.7777777777777778,
             "#fb9f3a"
            ],
            [
             0.8888888888888888,
             "#fdca26"
            ],
            [
             1,
             "#f0f921"
            ]
           ],
           "sequentialminus": [
            [
             0,
             "#0d0887"
            ],
            [
             0.1111111111111111,
             "#46039f"
            ],
            [
             0.2222222222222222,
             "#7201a8"
            ],
            [
             0.3333333333333333,
             "#9c179e"
            ],
            [
             0.4444444444444444,
             "#bd3786"
            ],
            [
             0.5555555555555556,
             "#d8576b"
            ],
            [
             0.6666666666666666,
             "#ed7953"
            ],
            [
             0.7777777777777778,
             "#fb9f3a"
            ],
            [
             0.8888888888888888,
             "#fdca26"
            ],
            [
             1,
             "#f0f921"
            ]
           ]
          },
          "colorway": [
           "#636efa",
           "#EF553B",
           "#00cc96",
           "#ab63fa",
           "#FFA15A",
           "#19d3f3",
           "#FF6692",
           "#B6E880",
           "#FF97FF",
           "#FECB52"
          ],
          "font": {
           "color": "#2a3f5f"
          },
          "geo": {
           "bgcolor": "white",
           "lakecolor": "white",
           "landcolor": "#E5ECF6",
           "showlakes": true,
           "showland": true,
           "subunitcolor": "white"
          },
          "hoverlabel": {
           "align": "left"
          },
          "hovermode": "closest",
          "mapbox": {
           "style": "light"
          },
          "paper_bgcolor": "white",
          "plot_bgcolor": "#E5ECF6",
          "polar": {
           "angularaxis": {
            "gridcolor": "white",
            "linecolor": "white",
            "ticks": ""
           },
           "bgcolor": "#E5ECF6",
           "radialaxis": {
            "gridcolor": "white",
            "linecolor": "white",
            "ticks": ""
           }
          },
          "scene": {
           "xaxis": {
            "backgroundcolor": "#E5ECF6",
            "gridcolor": "white",
            "gridwidth": 2,
            "linecolor": "white",
            "showbackground": true,
            "ticks": "",
            "zerolinecolor": "white"
           },
           "yaxis": {
            "backgroundcolor": "#E5ECF6",
            "gridcolor": "white",
            "gridwidth": 2,
            "linecolor": "white",
            "showbackground": true,
            "ticks": "",
            "zerolinecolor": "white"
           },
           "zaxis": {
            "backgroundcolor": "#E5ECF6",
            "gridcolor": "white",
            "gridwidth": 2,
            "linecolor": "white",
            "showbackground": true,
            "ticks": "",
            "zerolinecolor": "white"
           }
          },
          "shapedefaults": {
           "line": {
            "color": "#2a3f5f"
           }
          },
          "ternary": {
           "aaxis": {
            "gridcolor": "white",
            "linecolor": "white",
            "ticks": ""
           },
           "baxis": {
            "gridcolor": "white",
            "linecolor": "white",
            "ticks": ""
           },
           "bgcolor": "#E5ECF6",
           "caxis": {
            "gridcolor": "white",
            "linecolor": "white",
            "ticks": ""
           }
          },
          "title": {
           "x": 0.05
          },
          "xaxis": {
           "automargin": true,
           "gridcolor": "white",
           "linecolor": "white",
           "ticks": "",
           "title": {
            "standoff": 15
           },
           "zerolinecolor": "white",
           "zerolinewidth": 2
          },
          "yaxis": {
           "automargin": true,
           "gridcolor": "white",
           "linecolor": "white",
           "ticks": "",
           "title": {
            "standoff": 15
           },
           "zerolinecolor": "white",
           "zerolinewidth": 2
          }
         }
        },
        "title": {
         "text": "Correlation Matrix"
        },
        "xaxis": {
         "anchor": "y",
         "constrain": "domain",
         "domain": [
          0,
          1
         ],
         "scaleanchor": "y"
        },
        "yaxis": {
         "anchor": "x",
         "autorange": "reversed",
         "constrain": "domain",
         "domain": [
          0,
          1
         ]
        }
       }
      }
     },
     "metadata": {},
     "output_type": "display_data"
    }
   ],
   "source": [
    "sns.set()\n",
    "comperativeColumn_result.fillna(3, inplace = True)\n",
    "comperativeColumn_result.replace({'There is a relationship': 0, 'There is no relationship': 1}, inplace=True)\n",
    "fig = px.imshow(comperativeColumn_result, color_continuous_scale='Viridis',\n",
    "                title=\"Correlation Matrix\")\n",
    "fig.show()"
   ]
  },
  {
   "cell_type": "markdown",
   "metadata": {},
   "source": [
    "# Data Visualisation"
   ]
  },
  {
   "cell_type": "code",
   "execution_count": 18,
   "metadata": {},
   "outputs": [
    {
     "data": {
      "text/html": [
       "<div>\n",
       "<style scoped>\n",
       "    .dataframe tbody tr th:only-of-type {\n",
       "        vertical-align: middle;\n",
       "    }\n",
       "\n",
       "    .dataframe tbody tr th {\n",
       "        vertical-align: top;\n",
       "    }\n",
       "\n",
       "    .dataframe thead th {\n",
       "        text-align: right;\n",
       "    }\n",
       "</style>\n",
       "<table border=\"1\" class=\"dataframe\">\n",
       "  <thead>\n",
       "    <tr style=\"text-align: right;\">\n",
       "      <th></th>\n",
       "      <th>ph</th>\n",
       "      <th>Hardness</th>\n",
       "      <th>Solids</th>\n",
       "      <th>Chloramines</th>\n",
       "      <th>Sulfate</th>\n",
       "      <th>Conductivity</th>\n",
       "      <th>Organic_carbon</th>\n",
       "      <th>Trihalomethanes</th>\n",
       "      <th>Turbidity</th>\n",
       "      <th>Potability</th>\n",
       "    </tr>\n",
       "  </thead>\n",
       "  <tbody>\n",
       "    <tr>\n",
       "      <th>0</th>\n",
       "      <td>3.716080</td>\n",
       "      <td>204.890455</td>\n",
       "      <td>20791.318981</td>\n",
       "      <td>7.300212</td>\n",
       "      <td>368.516441</td>\n",
       "      <td>564.308654</td>\n",
       "      <td>10.379783</td>\n",
       "      <td>86.990970</td>\n",
       "      <td>2.963135</td>\n",
       "      <td>0</td>\n",
       "    </tr>\n",
       "    <tr>\n",
       "      <th>1</th>\n",
       "      <td>3.716080</td>\n",
       "      <td>129.422921</td>\n",
       "      <td>18630.057858</td>\n",
       "      <td>6.635246</td>\n",
       "      <td>356.886136</td>\n",
       "      <td>592.885359</td>\n",
       "      <td>15.180013</td>\n",
       "      <td>56.329076</td>\n",
       "      <td>4.500656</td>\n",
       "      <td>0</td>\n",
       "    </tr>\n",
       "    <tr>\n",
       "      <th>2</th>\n",
       "      <td>8.099124</td>\n",
       "      <td>224.236259</td>\n",
       "      <td>19909.541732</td>\n",
       "      <td>9.275884</td>\n",
       "      <td>356.886136</td>\n",
       "      <td>418.606213</td>\n",
       "      <td>16.868637</td>\n",
       "      <td>66.420093</td>\n",
       "      <td>3.055934</td>\n",
       "      <td>0</td>\n",
       "    </tr>\n",
       "    <tr>\n",
       "      <th>3</th>\n",
       "      <td>8.316766</td>\n",
       "      <td>214.373394</td>\n",
       "      <td>22018.417441</td>\n",
       "      <td>8.059332</td>\n",
       "      <td>356.886136</td>\n",
       "      <td>363.266516</td>\n",
       "      <td>18.436524</td>\n",
       "      <td>100.341674</td>\n",
       "      <td>4.628771</td>\n",
       "      <td>0</td>\n",
       "    </tr>\n",
       "    <tr>\n",
       "      <th>4</th>\n",
       "      <td>9.092223</td>\n",
       "      <td>181.101509</td>\n",
       "      <td>17978.986339</td>\n",
       "      <td>6.546600</td>\n",
       "      <td>310.135738</td>\n",
       "      <td>398.410813</td>\n",
       "      <td>11.558279</td>\n",
       "      <td>31.997993</td>\n",
       "      <td>4.075075</td>\n",
       "      <td>0</td>\n",
       "    </tr>\n",
       "  </tbody>\n",
       "</table>\n",
       "</div>"
      ],
      "text/plain": [
       "         ph    Hardness        Solids  Chloramines     Sulfate  Conductivity  \\\n",
       "0  3.716080  204.890455  20791.318981     7.300212  368.516441    564.308654   \n",
       "1  3.716080  129.422921  18630.057858     6.635246  356.886136    592.885359   \n",
       "2  8.099124  224.236259  19909.541732     9.275884  356.886136    418.606213   \n",
       "3  8.316766  214.373394  22018.417441     8.059332  356.886136    363.266516   \n",
       "4  9.092223  181.101509  17978.986339     6.546600  310.135738    398.410813   \n",
       "\n",
       "   Organic_carbon  Trihalomethanes  Turbidity  Potability  \n",
       "0       10.379783        86.990970   2.963135           0  \n",
       "1       15.180013        56.329076   4.500656           0  \n",
       "2       16.868637        66.420093   3.055934           0  \n",
       "3       18.436524       100.341674   4.628771           0  \n",
       "4       11.558279        31.997993   4.075075           0  "
      ]
     },
     "execution_count": 18,
     "metadata": {},
     "output_type": "execute_result"
    }
   ],
   "source": [
    "df.head()"
   ]
  },
  {
   "cell_type": "code",
   "execution_count": 19,
   "metadata": {},
   "outputs": [
    {
     "data": {
      "image/png": "[encoded data removed]",
      "text/plain": [
       "<Figure size 800x600 with 1 Axes>"
      ]
     },
     "metadata": {},
     "output_type": "display_data"
    }
   ],
   "source": [
    "\n",
    "plt.figure(figsize=(8, 6))\n",
    "sns.boxplot(x='Potability', y='ph', data=df)\n",
    "plt.title('pH Distribution by Potability')\n",
    "plt.xlabel('Potability')\n",
    "plt.ylabel('pH')\n",
    "plt.show()"
   ]
  },
  {
   "cell_type": "code",
   "execution_count": 20,
   "metadata": {},
   "outputs": [
    {
     "data": {
      "text/plain": [
       "Text(0.5, 1.0, 'pH Distribution')"
      ]
     },
     "execution_count": 20,
     "metadata": {},
     "output_type": "execute_result"
    },
    {
     "data": {
      "image/png": "[encoded data removed]",
      "text/plain": [
       "<Figure size 1200x800 with 1 Axes>"
      ]
     },
     "metadata": {},
     "output_type": "display_data"
    }
   ],
   "source": [
    "plt.figure(figsize=(12, 8))\n",
    "plt.subplot(2, 2, 1)\n",
    "sns.histplot(df['ph'], kde=True)\n",
    "plt.title('pH Distribution')"
   ]
  },
  {
   "cell_type": "code",
   "execution_count": 21,
   "metadata": {},
   "outputs": [
    {
     "data": {
      "image/png": "[encoded data removed]",
      "text/plain": [
       "<Figure size 1000x800 with 2 Axes>"
      ]
     },
     "metadata": {},
     "output_type": "display_data"
    }
   ],
   "source": [
    "plt.figure(figsize=(10, 8))\n",
    "sns.heatmap(df.corr(), annot=True, cmap='coolwarm', fmt=\".2f\")\n",
    "plt.title('Correlation Heatmap')\n",
    "plt.show()"
   ]
  },
  {
   "cell_type": "code",
   "execution_count": 22,
   "metadata": {},
   "outputs": [
    {
     "data": {
      "image/png": "[encoded data removed]",
      "text/plain": [
       "<Figure size 600x500 with 1 Axes>"
      ]
     },
     "metadata": {},
     "output_type": "display_data"
    }
   ],
   "source": [
    "plt.figure(figsize=(6, 5))\n",
    "sns.countplot(x='Potability', data=df)\n",
    "plt.title('Potability Distribution')\n",
    "plt.xlabel('Potability')\n",
    "plt.ylabel('Count')\n",
    "plt.show()"
   ]
  },
  {
   "cell_type": "markdown",
   "metadata": {},
   "source": [
    "# Machine Learning"
   ]
  },
  {
   "cell_type": "code",
   "execution_count": 23,
   "metadata": {},
   "outputs": [],
   "source": [
    "x=df.drop(['Potability'], axis=1)\n",
    "y=df['Potability']"
   ]
  },
  {
   "cell_type": "code",
   "execution_count": 28,
   "metadata": {},
   "outputs": [],
   "source": [
    "\n",
    "x_train,x_test,y_train,y_test=train_test_split(x,y,test_size=0.10)"
   ]
  },
  {
   "cell_type": "code",
   "execution_count": 30,
   "metadata": {},
   "outputs": [],
   "source": [
    "from sklearn.metrics import confusion_matrix,accuracy_score\n",
    "\n",
    "class Classification_models:\n",
    "  def __init__(self,x_train,x_test,y_train,y_test):\n",
    "    self.x_train = x_train\n",
    "    self.x_test = x_test\n",
    "    self.y_train = y_train\n",
    "    self.y_test = y_test\n",
    "\n",
    "  def decisiontree(self):\n",
    "    from sklearn.tree import DecisionTreeClassifier\n",
    "    model = DecisionTreeClassifier().fit(x_train,y_train)\n",
    "    y_pred = model.predict(x_test)\n",
    "    accuracy = accuracy_score(y_test,y_pred)\n",
    "    print('Decision Tree Classifier accuracy score: ',accuracy)\n",
    "    return accuracy\n",
    "\n",
    "  def RandomForestClassifier(self):\n",
    "    from sklearn.ensemble import RandomForestClassifier\n",
    "    model = RandomForestClassifier().fit(x_train,y_train)\n",
    "    y_pred = model.predict(x_test)\n",
    "    accuracy = accuracy_score(y_test,y_pred)\n",
    "    print('Random Forest Classifier accuracy score: ',accuracy)\n",
    "    return accuracy\n",
    "\n",
    "  def Logistic(self):\n",
    "    from sklearn.linear_model import LogisticRegression\n",
    "    model = LogisticRegression().fit(x_train,y_train)\n",
    "    y_pred = model.predict(x_test)\n",
    "    accuracy = accuracy_score(y_test,y_pred)\n",
    "    print('Random Forest Classifier accuracy score: ',accuracy)\n",
    "    return accuracy\n",
    "  def SupertVector(self):\n",
    "    from sklearn import svm\n",
    "    model = svm.SVC().fit(x_train,y_train)\n",
    "    y_pred = model.predict(x_test)\n",
    "    accuracy = accuracy_score(y_test,y_pred)\n",
    "    print('Support vector machines accuracy score: ',accuracy)\n",
    "    return accuracy\n",
    "\n",
    "  def KNeighborsClassifier(self):\n",
    "    from sklearn.neighbors import KNeighborsClassifier\n",
    "    model = KNeighborsClassifier().fit(x_train,y_train)\n",
    "    y_pred = model.predict(x_test)\n",
    "    accuracy = accuracy_score(y_test,y_pred)\n",
    "    print('KNeighbors Classifier accuracy score: ',accuracy)\n",
    "    return accuracy\n",
    "\n",
    "  def GaussianNaiveBayes(self):\n",
    "    from sklearn.naive_bayes import GaussianNB\n",
    "    model=GaussianNB().fit(x_train,y_train)\n",
    "    y_pred = model.predict(x_test)\n",
    "    accuracy = accuracy_score(y_test,y_pred)\n",
    "    print(\"Naive Bayes Classifier accuracy score: \",accuracy)\n",
    "    return accuracy\n",
    "\n",
    "  def GradientBoosting(self):\n",
    "    from sklearn.ensemble import GradientBoostingClassifier\n",
    "    model = GradientBoostingClassifier().fit(x_train,y_train)\n",
    "    y_pred = model.predict(x_test)\n",
    "    accuracy  = accuracy_score(y_test,y_pred)\n",
    "    print(\"Gradient Boosting Classifier accuracy score: \",accuracy)\n",
    "    return accuracy\n",
    "def AdaBoost(self):\n",
    "    from sklearn.ensemble import AdaBoostClassifier\n",
    "    model = AdaBoostClassifier().fit(x_train,y_train)\n",
    "    y_pred = model.predict(x_test)\n",
    "    accuracy = accuracy_score(y_test,y_pred)\n",
    "    print(\"AdaBoost Classifier accuracy score: \",accuracy)\n",
    "    return accuracy\n",
    "\n",
    "def SGDClassifier(self):\n",
    "    from sklearn.linear_model import SGDClassifier\n",
    "    model = SGDClassifier().fit(x_train,y_train)\n",
    "    y_pred = model.predict(x_test)\n",
    "    accuracy = accuracy_score(y_test,y_pred)\n",
    "    print(\"SGD Classifier accuracy score: \",accuracy)\n",
    "    return accuracy\n",
    "\n",
    "def MLPClassifier(self):\n",
    "    from sklearn.neural_network import MLPClassifier\n",
    "    model = MLPClassifier().fit(x_train,y_train)\n",
    "    y_pred = model.predict(x_test)\n",
    "    accuracy = accuracy_score(y_test,y_pred)\n",
    "    print(\"Neural network models accuracy score: \",accuracy)\n",
    "    return accuracy\n",
    "\n",
    "def NearestCentroid(self):\n",
    "    from sklearn.neighbors import NearestCentroid\n",
    "    model = NearestCentroid().fit(x_train,y_train)\n",
    "    y_pred = model.predict(x_test)\n",
    "    accuracy = accuracy_score(y_test,y_pred)\n",
    "    print(\"Nearest Neighbors accuracy score: \",accuracy)\n",
    "    return accuracy\n",
    "def LGBMClassifier(self):\n",
    "    from lightgbm import LGBMClassifier\n",
    "    model = LGBMClassifier().fit(x_train,y_train)\n",
    "    y_pred = model.predict(x_test)\n",
    "    accuracy = accuracy_score(y_test,y_pred)\n",
    "    print(\"LGBM Classifier accuracy score: \",accuracy)\n",
    "    return accuracy\n",
    "     "
   ]
  },
  {
   "cell_type": "code",
   "execution_count": null,
   "metadata": {},
   "outputs": [],
   "source": [
    "model = Classification_models(x_train,x_test,y_train,y_test)\n",
    "accuracy_scores = {\n",
    "    'DecisionTree': model.decisiontree(),\n",
    "    'RandomForest': model.RandomForestClassifier(),\n",
    "    #'SupertVector': model.SupertVector(),\n",
    "    #'KNeighborsClassifier' : model.KNeighborsClassifier(),\n",
    "    #'GaussianNaiveBayes' : model.GaussianNaiveBayes(),\n",
    "    #'GradientBoosting' : model.GradientBoosting(),\n",
    "    #'AdaBoost' : model.AdaBoost(),\n",
    "    # 'SGDClassifier' : model.SGDClassifier(),\n",
    "    # 'MLPClassifier' : model.MLPClassifier(),\n",
    "    # 'NearestCentroid' : model.NearestCentroid(),\n",
    "    'LGBMClassifier' : model.LGBMClassifier(),\n",
    "    'Logistic' : model.Logistic()}\n",
    "\n",
    "max_score_classifier = max(accuracy_scores, key=accuracy_scores.get)\n",
    "max_accuracy_score = accuracy_scores[max_score_classifier]\n",
    "\n",
    "print(f\"\\nMaximum accuracy score: {max_accuracy_score:.4f} achieved by {max_score_classifier} classifier.\\n\")"
   ]
  },
  {
   "cell_type": "code",
   "execution_count": 38,
   "metadata": {},
   "outputs": [
    {
     "name": "stdout",
     "output_type": "stream",
     "text": [
      "[LightGBM] [Info] Number of positive: 1162, number of negative: 1786\n",
      "[LightGBM] [Info] Auto-choosing col-wise multi-threading, the overhead of testing was 0.000373 seconds.\n",
      "You can set `force_col_wise=true` to remove the overhead.\n",
      "[LightGBM] [Info] Total Bins 2295\n",
      "[LightGBM] [Info] Number of data points in the train set: 2948, number of used features: 9\n",
      "[LightGBM] [Info] [binary:BoostFromScore]: pavg=0.394166 -> initscore=-0.429836\n",
      "[LightGBM] [Info] Start training from score -0.429836\n",
      "LGBM Classifier accuracy score:  0.6737804878048781\n"
     ]
    }
   ],
   "source": [
    "from lightgbm import LGBMClassifier\n",
    "model = LGBMClassifier().fit(x_train,y_train)\n",
    "y_pred = model.predict(x_test)\n",
    "accuracy = accuracy_score(y_test,y_pred)\n",
    "print(\"LGBM Classifier accuracy score: \",accuracy)\n",
    "     "
   ]
  },
  {
   "cell_type": "code",
   "execution_count": 39,
   "metadata": {},
   "outputs": [
    {
     "name": "stderr",
     "output_type": "stream",
     "text": [
      "c:\\Users\\Saravanan\\OneDrive\\Desktop\\Dataset\\.venv\\Lib\\site-packages\\sklearn\\metrics\\_ranking.py:1988: UndefinedMetricWarning:\n",
      "\n",
      "'k' (2) greater than or equal to 'n_classes' (2) will result in a perfect score and is therefore meaningless.\n",
      "\n"
     ]
    },
    {
     "data": {
      "text/plain": [
       "(1.0, 0.5529411764705883, 0.4051724137931034)"
      ]
     },
     "execution_count": 39,
     "metadata": {},
     "output_type": "execute_result"
    }
   ],
   "source": [
    "# Classification\n",
    "kas = top_k_accuracy_score(y_test, y_pred)\n",
    "ps = precision_score(y_test, y_pred)\n",
    "rs = recall_score(y_test, y_pred)\n",
    "\n",
    "kas, ps, rs\n",
    "     "
   ]
  }
 ],
 "metadata": {
  "kernelspec": {
   "display_name": ".venv",
   "language": "python",
   "name": "python3"
  },
  "language_info": {
   "codemirror_mode": {
    "name": "ipython",
    "version": 3
   },
   "file_extension": ".py",
   "mimetype": "text/x-python",
   "name": "python",
   "nbconvert_exporter": "python",
   "pygments_lexer": "ipython3",
   "version": "3.11.9"
  }
 },
 "nbformat": 4,
 "nbformat_minor": 2
}
